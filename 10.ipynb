{
 "cells": [
  {
   "cell_type": "code",
   "execution_count": 1,
   "metadata": {},
   "outputs": [],
   "source": [
    "%matplotlib inline"
   ]
  },
  {
   "cell_type": "code",
   "execution_count": 2,
   "metadata": {},
   "outputs": [],
   "source": [
    "import numpy as np\n",
    "import re\n",
    "import matplotlib.pyplot as plt"
   ]
  },
  {
   "cell_type": "code",
   "execution_count": 3,
   "metadata": {},
   "outputs": [
    {
     "name": "stdout",
     "output_type": "stream",
     "text": [
      "10124\n"
     ]
    }
   ],
   "source": [
    "pos = []\n",
    "vel = []\n",
    "with open(\"input/10.txt\") as f:\n",
    "#with open(\"input/10.test\") as f:\n",
    "    for line in f:\n",
    "        m = re.search(\"position=<(.+),(.+)> velocity=<(.+),(.+)>\", line)\n",
    "        pos.append([int(x) for x in m.groups()[0:2]])\n",
    "        vel.append([int(x) for x in m.groups()[2:4]])\n",
    "\n",
    "pos = np.array(pos)\n",
    "vel = np.array(vel)\n",
    "\n",
    "tmp = []\n",
    "nsteps = 1000000  # max\n",
    "poss = np.zeros((nsteps, len(pos), 2))\n",
    "dprev = 1e100\n",
    "for i in range(nsteps):\n",
    "    poss[i] = pos + vel * i\n",
    "\n",
    "    xmin = poss[i,:,0].min()\n",
    "    xmax = poss[i,:,0].max()\n",
    "    ymin = poss[i,:,1].min()\n",
    "    ymax = poss[i,:,1].max()\n",
    "    d = (xmax-xmin)*(ymax-ymin)\n",
    "    if d - dprev >= 0:\n",
    "        break\n",
    "    dprev = d\n",
    "i = i-1\n",
    "print(i)"
   ]
  },
  {
   "cell_type": "code",
   "execution_count": 4,
   "metadata": {},
   "outputs": [
    {
     "data": {
      "text/plain": [
       "(130.4651766004415, 120.53482339955849)"
      ]
     },
     "execution_count": 4,
     "metadata": {},
     "output_type": "execute_result"
    },
    {
     "data": {
      "image/png": "[encoded data removed]",
      "text/plain": [
       "<matplotlib.figure.Figure at 0x7efd089fb470>"
      ]
     },
     "metadata": {},
     "output_type": "display_data"
    }
   ],
   "source": [
    "plt.scatter(poss[i,:,0], poss[i,:,1])\n",
    "plt.axis('equal')\n",
    "plt.ylim(plt.ylim()[::-1])"
   ]
  },
  {
   "cell_type": "code",
   "execution_count": null,
   "metadata": {},
   "outputs": [],
   "source": []
  }
 ],
 "metadata": {
  "kernelspec": {
   "display_name": "Python 3",
   "language": "python",
   "name": "python3"
  },
  "language_info": {
   "codemirror_mode": {
    "name": "ipython",
    "version": 3
   },
   "file_extension": ".py",
   "mimetype": "text/x-python",
   "name": "python",
   "nbconvert_exporter": "python",
   "pygments_lexer": "ipython3",
   "version": "3.6.4"
  }
 },
 "nbformat": 4,
 "nbformat_minor": 2
}
